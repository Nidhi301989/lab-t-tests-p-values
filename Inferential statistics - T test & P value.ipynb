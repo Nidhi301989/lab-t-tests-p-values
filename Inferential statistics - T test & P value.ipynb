{
 "cells": [
  {
   "cell_type": "markdown",
   "id": "1f51e49e",
   "metadata": {},
   "source": [
    "# Lab | Inferential statistics - T-test & P-value"
   ]
  },
  {
   "cell_type": "code",
   "execution_count": 2,
   "id": "c6159d4b",
   "metadata": {},
   "outputs": [
    {
     "name": "stdout",
     "output_type": "stream",
     "text": [
      "T-statistic: -6.466185039577487\n",
      "P-value: 2.2000957558350083e-06\n"
     ]
    }
   ],
   "source": [
    "# t-test:\n",
    "\n",
    "import numpy as np\n",
    "import scipy.stats as stats\n",
    "\n",
    "# Data for new and current machines\n",
    "new_machine = [42.1, 41.3, 42.8, 43.5, 43.1, 41.0, 42.3, 41.8, 42.7, 42.5]\n",
    "current_machine = [44.5, 43.9, 44.0, 45.1, 44.3, 43.5, 44.8, 44.2, 44.0, 43.7]\n",
    "\n",
    "# Calculate the means and standard deviations\n",
    "mean_new = np.mean(new_machine)\n",
    "mean_current = np.mean(current_machine)\n",
    "std_new = np.std(new_machine, ddof=1)  # sample standard deviation\n",
    "std_current = np.std(current_machine, ddof=1)\n",
    "\n",
    "n_new = len(new_machine)\n",
    "n_current = len(current_machine)\n",
    "\n",
    "# Pooled standard deviation\n",
    "sp = np.sqrt(((n_new - 1) * std_new**2 + (n_current - 1) * std_current**2) / (n_new + n_current - 2))\n",
    "\n",
    "# T-statistic\n",
    "t_stat = (mean_new - mean_current) / (sp * np.sqrt(1/n_new + 1/n_current))\n",
    "\n",
    "# Degrees of freedom\n",
    "df = n_new + n_current - 2\n",
    "\n",
    "# One-sided p-value\n",
    "p_value = stats.t.cdf(t_stat, df=df)\n",
    "\n",
    "# Print the results\n",
    "print(\"T-statistic:\", t_stat)\n",
    "print(\"P-value:\", p_value)\n"
   ]
  },
  {
   "cell_type": "markdown",
   "id": "accbee85",
   "metadata": {},
   "source": [
    "Decision Rule:\n",
    "If the p-value is less than the significance level (α=0.05), we reject the null hypothesis.\n",
    "If the p-value is greater than or equal to 0.05, we fail to reject the null hypothesis.\n",
    "Based on this test, we can conclude whether the new machine is faster than the current machine.\n"
   ]
  },
  {
   "cell_type": "code",
   "execution_count": 5,
   "id": "6c89cbaa",
   "metadata": {},
   "outputs": [
    {
     "name": "stdout",
     "output_type": "stream",
     "text": [
      "T-statistic: -2.6374985989053426\n",
      "P-value: 0.013524995128258914\n"
     ]
    }
   ],
   "source": [
    "# Two-Sample T-Test (Unequal Variances)\n",
    "\n",
    "# Example data for sophomore and junior GPA from 'student_gpa.txt'\n",
    "sophomore_gpa = [3.1, 2.9, 3.5, 3.0, 3.3, 2.7, 3.2, 3.6, 3.1, 3.4, 3.0, 2.8, 3.2, 3.3, 3.0, 2.9, 3.1]\n",
    "junior_gpa = [3.2, 3.1, 3.6, 3.3, 3.4, 3.0, 3.5, 3.7, 3.2, 3.5, 3.3, 3.4, 3.2]\n",
    "\n",
    "# Perform Welch's t-test (independent t-test with unequal variance)\n",
    "t_stat, p_value = stats.ttest_ind(sophomore_gpa, junior_gpa, equal_var=False)\n",
    "\n",
    "# Print the results\n",
    "print(\"T-statistic:\", t_stat)\n",
    "print(\"P-value:\", p_value)\n",
    "\n"
   ]
  },
  {
   "cell_type": "code",
   "execution_count": null,
   "id": "3b171986",
   "metadata": {},
   "outputs": [],
   "source": [
    "Decision Rule for the Second Test:\n",
    "Similar to the first test, if the p-value is less than α=0.05, we reject the null hypothesis and conclude that the mean GPAs of sophomores and juniors are significantly different.\n",
    "If the p-value is greater than or equal to 0.05, we fail to reject the null hypothesis, meaning there is no significant difference in the mean GPAs."
   ]
  }
 ],
 "metadata": {
  "kernelspec": {
   "display_name": "Python 3 (ipykernel)",
   "language": "python",
   "name": "python3"
  },
  "language_info": {
   "codemirror_mode": {
    "name": "ipython",
    "version": 3
   },
   "file_extension": ".py",
   "mimetype": "text/x-python",
   "name": "python",
   "nbconvert_exporter": "python",
   "pygments_lexer": "ipython3",
   "version": "3.9.13"
  }
 },
 "nbformat": 4,
 "nbformat_minor": 5
}
